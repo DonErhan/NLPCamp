{
 "cells": [
  {
   "cell_type": "code",
   "execution_count": null,
   "metadata": {},
   "outputs": [],
   "source": [
    "# Get days in month by year and month\n",
    "\n",
    "def days_in_m_y(y, m):\n",
    "  leap_year = 0\n",
    "  if y % 400 == 0:\n",
    "     leap_year = 1\n",
    "  elif y % 100 == 0:\n",
    "     leap_year = 0\n",
    "  elif y % 4 == 0:\n",
    "     leap_year = 1\n",
    "  if m == 2:\n",
    "     return f'{28 + leap_year} days'\n",
    "  Months = [1,3,5,7,8,10,12]\n",
    "  if m in Months:\n",
    "     return 31\n",
    "  return 30\n",
    "\n",
    "days_in_m_y(int(input(\"Enter Year: \")), int(input(\"Enter Month: \")))"
   ]
  },
  {
   "cell_type": "code",
   "execution_count": null,
   "metadata": {},
   "outputs": [],
   "source": [
    "# Get days in month\n",
    "\n",
    "def get_n_of_days(n):\n",
    "    Months = [1,3,5,7,8,10,12]\n",
    "    if n == 2:\n",
    "        return '28 days'\n",
    "    elif n in Months:\n",
    "        return '31 days'\n",
    "    return '30 days'\n",
    "\n",
    "get_n_of_days(int(input(\"Enter Month: \")))        "
   ]
  }
 ],
 "metadata": {
  "kernelspec": {
   "display_name": "Python 3",
   "language": "python",
   "name": "python3"
  },
  "language_info": {
   "codemirror_mode": {
    "name": "ipython",
    "version": 3
   },
   "file_extension": ".py",
   "mimetype": "text/x-python",
   "name": "python",
   "nbconvert_exporter": "python",
   "pygments_lexer": "ipython3",
   "version": "3.8.5"
  }
 },
 "nbformat": 4,
 "nbformat_minor": 4
}
