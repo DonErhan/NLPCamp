{
 "cells": [
  {
   "cell_type": "markdown",
   "metadata": {},
   "source": [
    "# Task 1:  Polymorphism, Encapsulation and Inheritance\n",
    "\n",
    "    Creeaza un exemplul al tău al acestor concepte. "
   ]
  },
  {
   "cell_type": "markdown",
   "metadata": {},
   "source": [
    "## Inheritance"
   ]
  },
  {
   "cell_type": "code",
   "execution_count": null,
   "metadata": {},
   "outputs": [],
   "source": [
    "# parent class\n",
    "class Fish:\n",
    "    def __init__(self):\n",
    "        print(\"Fishes are swiming\")\n",
    "\n",
    "    def clas(self):\n",
    "        print(\"Fish\")\n",
    "\n",
    "    def swim(self):\n",
    "        print(\"Yes, Swiming\")\n",
    "\n",
    "# child class\n",
    "class Peacefull(Fish):\n",
    "    def __init__(self):\n",
    "        super().__init__()\n",
    "        print(\"Peacefull fish\")\n",
    "\n",
    "    def species(self):\n",
    "        print(\"Swordfish\")\n",
    "\n",
    "    def food(self):\n",
    "        print(\"Herbs\")\n",
    "        \n",
    "# child class\n",
    "class Hunters(Fish):\n",
    "    def __init__(self):\n",
    "        super().__init__()\n",
    "        print(\"Hunter fishes\")\n",
    "        \n",
    "    def species(self):\n",
    "        print(\"Shark\")\n",
    "\n",
    "    def food(self):\n",
    "        print(\"Meat\")    "
   ]
  },
  {
   "cell_type": "code",
   "execution_count": null,
   "metadata": {},
   "outputs": [],
   "source": [
    "Red_fish = Peacefull()\n",
    "Red_fish.clas()\n",
    "Red_fish.species()\n",
    "Red_fish.food()\n",
    "Red_fish.swim()"
   ]
  },
  {
   "cell_type": "code",
   "execution_count": null,
   "metadata": {},
   "outputs": [],
   "source": [
    "Gray_fish = Hunters()\n",
    "Gray_fish.clas()\n",
    "Gray_fish.species()\n",
    "Gray_fish.food()\n",
    "Gray_fish.swim()"
   ]
  },
  {
   "cell_type": "markdown",
   "metadata": {},
   "source": [
    "## Encapsulation"
   ]
  },
  {
   "cell_type": "code",
   "execution_count": null,
   "metadata": {},
   "outputs": [],
   "source": [
    "class Apple:\n",
    "\n",
    "    def __init__(self):\n",
    "        self.__top_price = 300\n",
    "\n",
    "    def sell(self):\n",
    "        print(f\"Selling Price: {self.__top_price}\")\n",
    "\n",
    "    def ChangeTopPrice(self, price):\n",
    "        self.__top_price = price\n"
   ]
  },
  {
   "cell_type": "code",
   "execution_count": null,
   "metadata": {},
   "outputs": [],
   "source": [
    "A = Apple()\n",
    "A.sell()\n",
    "\n",
    "print(f'\\n Try change the price \\n')\n",
    "A.top_price = 1000\n",
    "A.sell()\n",
    "\n",
    "print(f'\\n Set top price to 1000\\n')\n",
    "A.ChangeTopPrice(1000)\n",
    "A.sell()"
   ]
  },
  {
   "cell_type": "markdown",
   "metadata": {},
   "source": [
    "## Polymorphism"
   ]
  },
  {
   "cell_type": "code",
   "execution_count": null,
   "metadata": {},
   "outputs": [],
   "source": [
    "class Fish:\n",
    "\n",
    "    def food(self):\n",
    "        print(\"Sea_food\")\n",
    "    \n",
    "    def swim(self):\n",
    "        print(\"Fish can swim\")\n",
    "        \n",
    "\n",
    "class Cat:\n",
    "\n",
    "    def food(self):\n",
    "        print(\"Milk\")\n",
    "    \n",
    "    def swim(self):\n",
    "        print(\"Cat's can't swim\")\n",
    "\n",
    "\n",
    "def swim_test(test):\n",
    "    test.swim()\n",
    "\n",
    "def food_type(test):\n",
    "    test.food()        "
   ]
  },
  {
   "cell_type": "code",
   "execution_count": null,
   "metadata": {},
   "outputs": [],
   "source": [
    "blu = Fish()\n",
    "miu = Cat()\n",
    "\n",
    "swim_test(blu)\n",
    "swim_test(miu)"
   ]
  },
  {
   "cell_type": "code",
   "execution_count": null,
   "metadata": {},
   "outputs": [],
   "source": [
    "ciu = Fish()\n",
    "jui = Cat()\n",
    "food_type(ciu)\n",
    "food_type(jui)"
   ]
  }
 ],
 "metadata": {
  "kernelspec": {
   "display_name": "Python 3",
   "language": "python",
   "name": "python3"
  },
  "language_info": {
   "codemirror_mode": {
    "name": "ipython",
    "version": 3
   },
   "file_extension": ".py",
   "mimetype": "text/x-python",
   "name": "python",
   "nbconvert_exporter": "python",
   "pygments_lexer": "ipython3",
   "version": "3.8.5"
  }
 },
 "nbformat": 4,
 "nbformat_minor": 4
}
